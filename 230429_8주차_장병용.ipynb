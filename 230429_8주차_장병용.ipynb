{
 "cells": [
  {
   "attachments": {},
   "cell_type": "markdown",
   "metadata": {},
   "source": [
    "# Simple XGBoost Starter (~0.0655)"
   ]
  },
  {
   "cell_type": "code",
   "execution_count": 34,
   "metadata": {},
   "outputs": [],
   "source": [
    "import numpy as np\n",
    "import pandas as pd\n",
    "import xgboost as xgb\n",
    "import gc\n"
   ]
  },
  {
   "cell_type": "code",
   "execution_count": 44,
   "metadata": {},
   "outputs": [
    {
     "name": "stdout",
     "output_type": "stream",
     "text": [
      "Loading data ...\n"
     ]
    }
   ],
   "source": [
    "print('Loading data ...')\n",
    "path = 'D:/project/study/kaggle/data/Zillow Prize Zillow’s Home Value Prediction (Zestimate)'\n",
    "\n",
    "train = pd.read_csv(path + \"/train_2016_v2.csv\", parse_dates=[\"transactiondate\"])\n",
    "prop = pd.read_csv(path + '/properties_2016.csv')\n",
    "sample = pd.read_csv(path +'/sample_submission.csv')\n"
   ]
  },
  {
   "cell_type": "code",
   "execution_count": 36,
   "metadata": {},
   "outputs": [
    {
     "name": "stdout",
     "output_type": "stream",
     "text": [
      "Binding to float32\n"
     ]
    }
   ],
   "source": [
    "print('Binding to float32')\n",
    "\n",
    "for c, dtype in zip(prop.columns, prop.dtypes):\n",
    "\tif dtype == np.float64:\n",
    "\t\tprop[c] = prop[c].astype(np.float32)"
   ]
  },
  {
   "cell_type": "code",
   "execution_count": 37,
   "metadata": {},
   "outputs": [
    {
     "name": "stdout",
     "output_type": "stream",
     "text": [
      "Creating training set ...\n"
     ]
    }
   ],
   "source": [
    "print('Creating training set ...')\n",
    "\n",
    "df_train = train.merge(prop, how='left', on='parcelid')\n",
    "\n",
    "x_train = df_train.drop(['parcelid', 'logerror', 'transactiondate', 'propertyzoningdesc', 'propertycountylandusecode'], axis=1)\n",
    "y_train = df_train['logerror'].values"
   ]
  },
  {
   "cell_type": "code",
   "execution_count": 38,
   "metadata": {},
   "outputs": [
    {
     "name": "stdout",
     "output_type": "stream",
     "text": [
      "(90275, 55) (90275,)\n"
     ]
    }
   ],
   "source": [
    "print(x_train.shape, y_train.shape)\n",
    "\n",
    "train_columns = x_train.columns\n",
    "\n",
    "for c in x_train.dtypes[x_train.dtypes == object].index.values:\n",
    "    x_train[c] = (x_train[c] == True)\n",
    "\n",
    "del df_train; gc.collect()\n",
    "\n",
    "split = 80000\n",
    "x_train, y_train, x_valid, y_valid = x_train[:split], y_train[:split], x_train[split:], y_train[split:]"
   ]
  },
  {
   "cell_type": "code",
   "execution_count": 39,
   "metadata": {},
   "outputs": [
    {
     "name": "stdout",
     "output_type": "stream",
     "text": [
      "Building DMatrix...\n"
     ]
    },
    {
     "data": {
      "text/plain": [
       "28"
      ]
     },
     "execution_count": 39,
     "metadata": {},
     "output_type": "execute_result"
    }
   ],
   "source": [
    "print('Building DMatrix...')\n",
    "\n",
    "d_train = xgb.DMatrix(x_train, label=y_train)\n",
    "d_valid = xgb.DMatrix(x_valid, label=y_valid)\n",
    "\n",
    "del x_train, x_valid; gc.collect()"
   ]
  },
  {
   "cell_type": "code",
   "execution_count": 40,
   "metadata": {},
   "outputs": [
    {
     "name": "stdout",
     "output_type": "stream",
     "text": [
      "Training ...\n",
      "[0]\ttrain-mae:0.48806\tvalid-mae:0.48112\n"
     ]
    },
    {
     "name": "stderr",
     "output_type": "stream",
     "text": [
      "C:\\Users\\JBY\\AppData\\Roaming\\Python\\Python37\\site-packages\\xgboost\\core.py:571: FutureWarning: Pass `evals` as keyword args.  Passing these as positional arguments will be considered as error in future releases.\n",
      "  format(\", \".join(args_msg)), FutureWarning\n"
     ]
    },
    {
     "name": "stdout",
     "output_type": "stream",
     "text": [
      "[10]\ttrain-mae:0.40222\tvalid-mae:0.39544\n",
      "[20]\ttrain-mae:0.33268\tvalid-mae:0.32610\n",
      "[30]\ttrain-mae:0.27652\tvalid-mae:0.27013\n",
      "[40]\ttrain-mae:0.23132\tvalid-mae:0.22521\n",
      "[50]\ttrain-mae:0.19506\tvalid-mae:0.18933\n",
      "[60]\ttrain-mae:0.16612\tvalid-mae:0.16073\n",
      "[70]\ttrain-mae:0.14312\tvalid-mae:0.13805\n",
      "[80]\ttrain-mae:0.12497\tvalid-mae:0.12024\n",
      "[90]\ttrain-mae:0.11078\tvalid-mae:0.10635\n",
      "[100]\ttrain-mae:0.09982\tvalid-mae:0.09569\n",
      "[110]\ttrain-mae:0.09145\tvalid-mae:0.08761\n",
      "[120]\ttrain-mae:0.08514\tvalid-mae:0.08160\n",
      "[130]\ttrain-mae:0.08045\tvalid-mae:0.07722\n",
      "[140]\ttrain-mae:0.07700\tvalid-mae:0.07408\n",
      "[150]\ttrain-mae:0.07450\tvalid-mae:0.07184\n",
      "[160]\ttrain-mae:0.07268\tvalid-mae:0.07025\n",
      "[170]\ttrain-mae:0.07136\tvalid-mae:0.06914\n",
      "[180]\ttrain-mae:0.07040\tvalid-mae:0.06839\n",
      "[190]\ttrain-mae:0.06970\tvalid-mae:0.06788\n",
      "[200]\ttrain-mae:0.06919\tvalid-mae:0.06753\n",
      "[210]\ttrain-mae:0.06882\tvalid-mae:0.06729\n",
      "[220]\ttrain-mae:0.06854\tvalid-mae:0.06714\n",
      "[230]\ttrain-mae:0.06833\tvalid-mae:0.06703\n",
      "[240]\ttrain-mae:0.06816\tvalid-mae:0.06696\n",
      "[250]\ttrain-mae:0.06803\tvalid-mae:0.06691\n",
      "[260]\ttrain-mae:0.06794\tvalid-mae:0.06689\n",
      "[270]\ttrain-mae:0.06786\tvalid-mae:0.06687\n",
      "[280]\ttrain-mae:0.06779\tvalid-mae:0.06687\n",
      "[290]\ttrain-mae:0.06774\tvalid-mae:0.06687\n",
      "[300]\ttrain-mae:0.06769\tvalid-mae:0.06686\n",
      "[310]\ttrain-mae:0.06765\tvalid-mae:0.06686\n",
      "[320]\ttrain-mae:0.06762\tvalid-mae:0.06687\n",
      "[330]\ttrain-mae:0.06759\tvalid-mae:0.06687\n",
      "[340]\ttrain-mae:0.06757\tvalid-mae:0.06688\n",
      "[350]\ttrain-mae:0.06754\tvalid-mae:0.06689\n",
      "[360]\ttrain-mae:0.06752\tvalid-mae:0.06689\n",
      "[370]\ttrain-mae:0.06750\tvalid-mae:0.06690\n",
      "[380]\ttrain-mae:0.06749\tvalid-mae:0.06691\n",
      "[390]\ttrain-mae:0.06747\tvalid-mae:0.06692\n",
      "[400]\ttrain-mae:0.06745\tvalid-mae:0.06693\n",
      "[401]\ttrain-mae:0.06745\tvalid-mae:0.06693\n"
     ]
    }
   ],
   "source": [
    "print('Training ...')\n",
    "\n",
    "params = {}\n",
    "params['eta'] = 0.02\n",
    "params['objective'] = 'reg:squarederror'\n",
    "params['eval_metric'] = 'mae'\n",
    "params['max_depth'] = 4\n",
    "params['verbosity'] = 1\n",
    "\n",
    "watchlist = [(d_train, 'train'), (d_valid, 'valid')]\n",
    "clf = xgb.train(params, d_train, 10000, watchlist, early_stopping_rounds=100, verbose_eval=10)\n",
    "\n",
    "del d_train, d_valid"
   ]
  },
  {
   "cell_type": "code",
   "execution_count": 41,
   "metadata": {},
   "outputs": [
    {
     "name": "stdout",
     "output_type": "stream",
     "text": [
      "Building test set ...\n"
     ]
    },
    {
     "name": "stderr",
     "output_type": "stream",
     "text": [
      "c:\\Users\\JBY\\anaconda3\\envs\\3.7\\lib\\site-packages\\ipykernel_launcher.py:10: SettingWithCopyWarning: \n",
      "A value is trying to be set on a copy of a slice from a DataFrame.\n",
      "Try using .loc[row_indexer,col_indexer] = value instead\n",
      "\n",
      "See the caveats in the documentation: https://pandas.pydata.org/pandas-docs/stable/user_guide/indexing.html#returning-a-view-versus-a-copy\n",
      "  # Remove the CWD from sys.path while we load stuff.\n"
     ]
    },
    {
     "data": {
      "text/plain": [
       "7"
      ]
     },
     "execution_count": 41,
     "metadata": {},
     "output_type": "execute_result"
    }
   ],
   "source": [
    "print('Building test set ...')\n",
    "\n",
    "sample['parcelid'] = sample['ParcelId']\n",
    "df_test = sample.merge(prop, on='parcelid', how='left')\n",
    "\n",
    "del prop; gc.collect()\n",
    "\n",
    "x_test = df_test[train_columns]\n",
    "for c in x_test.dtypes[x_test.dtypes == object].index.values:\n",
    "    x_test[c] = (x_test[c] == True)\n",
    "\n",
    "del df_test, sample; gc.collect()\n",
    "\n",
    "d_test = xgb.DMatrix(x_test)\n",
    "\n",
    "del x_test; gc.collect()"
   ]
  },
  {
   "cell_type": "code",
   "execution_count": 42,
   "metadata": {},
   "outputs": [
    {
     "name": "stdout",
     "output_type": "stream",
     "text": [
      "Predicting on test ...\n"
     ]
    }
   ],
   "source": [
    "print('Predicting on test ...')\n",
    "\n",
    "p_test = clf.predict(d_test)\n",
    "\n",
    "del d_test; gc.collect()\n",
    "\n",
    "sub = pd.read_csv(path+'/sample_submission.csv')\n",
    "for c in sub.columns[sub.columns != 'ParcelId']:\n",
    "    sub[c] = p_test"
   ]
  },
  {
   "cell_type": "code",
   "execution_count": 43,
   "metadata": {},
   "outputs": [
    {
     "name": "stdout",
     "output_type": "stream",
     "text": [
      "Writing csv ...\n"
     ]
    }
   ],
   "source": [
    "print('Writing csv ...')\n",
    "sub.to_csv('xgb_starter.csv', index=False, float_format='%.4f') # Thanks to @inversion"
   ]
  },
  {
   "cell_type": "code",
   "execution_count": null,
   "metadata": {},
   "outputs": [],
   "source": []
  }
 ],
 "metadata": {
  "kernelspec": {
   "display_name": "3.7",
   "language": "python",
   "name": "python3"
  },
  "language_info": {
   "codemirror_mode": {
    "name": "ipython",
    "version": 3
   },
   "file_extension": ".py",
   "mimetype": "text/x-python",
   "name": "python",
   "nbconvert_exporter": "python",
   "pygments_lexer": "ipython3",
   "version": "3.7.11"
  },
  "orig_nbformat": 4
 },
 "nbformat": 4,
 "nbformat_minor": 2
}
