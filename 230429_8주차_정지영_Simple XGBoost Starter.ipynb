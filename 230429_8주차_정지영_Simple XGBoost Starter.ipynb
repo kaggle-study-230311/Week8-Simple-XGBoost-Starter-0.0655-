{
 "cells": [
  {
   "cell_type": "code",
   "execution_count": 13,
   "id": "e9a9807f",
   "metadata": {},
   "outputs": [],
   "source": [
    "import numpy as np\n",
    "import pandas as pd\n",
    "import xgboost as xgb\n",
    "import gc  #가비지 컬렉션 인터페이스"
   ]
  },
  {
   "cell_type": "markdown",
   "id": "d66f3c1c",
   "metadata": {},
   "source": [
    "### 데이터 로딩"
   ]
  },
  {
   "cell_type": "code",
   "execution_count": 14,
   "id": "668c9396",
   "metadata": {},
   "outputs": [
    {
     "name": "stdout",
     "output_type": "stream",
     "text": [
      "Loading data...\n"
     ]
    },
    {
     "name": "stderr",
     "output_type": "stream",
     "text": [
      "/var/folders/cx/dsw_f6590_dbbf9c4vf4fyy40000gn/T/ipykernel_40789/3611972492.py:4: DtypeWarning: Columns (22,32,34,49,55) have mixed types. Specify dtype option on import or set low_memory=False.\n",
      "  prop = pd.read_csv('properties_2016.csv')\n"
     ]
    }
   ],
   "source": [
    "print('Loading data...')\n",
    "\n",
    "train = pd.read_csv('train_2016_v2.csv')\n",
    "prop = pd.read_csv('properties_2016.csv')\n",
    "sample = pd.read_csv('sample_submission.csv')"
   ]
  },
  {
   "cell_type": "code",
   "execution_count": 42,
   "id": "09ce82a4",
   "metadata": {},
   "outputs": [
    {
     "data": {
      "text/html": [
       "<div>\n",
       "<style scoped>\n",
       "    .dataframe tbody tr th:only-of-type {\n",
       "        vertical-align: middle;\n",
       "    }\n",
       "\n",
       "    .dataframe tbody tr th {\n",
       "        vertical-align: top;\n",
       "    }\n",
       "\n",
       "    .dataframe thead th {\n",
       "        text-align: right;\n",
       "    }\n",
       "</style>\n",
       "<table border=\"1\" class=\"dataframe\">\n",
       "  <thead>\n",
       "    <tr style=\"text-align: right;\">\n",
       "      <th></th>\n",
       "      <th>ParcelId</th>\n",
       "      <th>201610</th>\n",
       "      <th>201611</th>\n",
       "      <th>201612</th>\n",
       "      <th>201710</th>\n",
       "      <th>201711</th>\n",
       "      <th>201712</th>\n",
       "      <th>parcelid</th>\n",
       "    </tr>\n",
       "  </thead>\n",
       "  <tbody>\n",
       "    <tr>\n",
       "      <th>0</th>\n",
       "      <td>10754147</td>\n",
       "      <td>0</td>\n",
       "      <td>0</td>\n",
       "      <td>0</td>\n",
       "      <td>0</td>\n",
       "      <td>0</td>\n",
       "      <td>0</td>\n",
       "      <td>10754147</td>\n",
       "    </tr>\n",
       "    <tr>\n",
       "      <th>1</th>\n",
       "      <td>10759547</td>\n",
       "      <td>0</td>\n",
       "      <td>0</td>\n",
       "      <td>0</td>\n",
       "      <td>0</td>\n",
       "      <td>0</td>\n",
       "      <td>0</td>\n",
       "      <td>10759547</td>\n",
       "    </tr>\n",
       "    <tr>\n",
       "      <th>2</th>\n",
       "      <td>10843547</td>\n",
       "      <td>0</td>\n",
       "      <td>0</td>\n",
       "      <td>0</td>\n",
       "      <td>0</td>\n",
       "      <td>0</td>\n",
       "      <td>0</td>\n",
       "      <td>10843547</td>\n",
       "    </tr>\n",
       "    <tr>\n",
       "      <th>3</th>\n",
       "      <td>10859147</td>\n",
       "      <td>0</td>\n",
       "      <td>0</td>\n",
       "      <td>0</td>\n",
       "      <td>0</td>\n",
       "      <td>0</td>\n",
       "      <td>0</td>\n",
       "      <td>10859147</td>\n",
       "    </tr>\n",
       "    <tr>\n",
       "      <th>4</th>\n",
       "      <td>10879947</td>\n",
       "      <td>0</td>\n",
       "      <td>0</td>\n",
       "      <td>0</td>\n",
       "      <td>0</td>\n",
       "      <td>0</td>\n",
       "      <td>0</td>\n",
       "      <td>10879947</td>\n",
       "    </tr>\n",
       "  </tbody>\n",
       "</table>\n",
       "</div>"
      ],
      "text/plain": [
       "   ParcelId  201610  201611  201612  201710  201711  201712  parcelid\n",
       "0  10754147       0       0       0       0       0       0  10754147\n",
       "1  10759547       0       0       0       0       0       0  10759547\n",
       "2  10843547       0       0       0       0       0       0  10843547\n",
       "3  10859147       0       0       0       0       0       0  10859147\n",
       "4  10879947       0       0       0       0       0       0  10879947"
      ]
     },
     "execution_count": 42,
     "metadata": {},
     "output_type": "execute_result"
    }
   ],
   "source": [
    "sample.head()"
   ]
  },
  {
   "cell_type": "markdown",
   "id": "61db2308",
   "metadata": {},
   "source": [
    "### float64 -> float32 dtype 변경"
   ]
  },
  {
   "cell_type": "code",
   "execution_count": 15,
   "id": "71e16a60",
   "metadata": {},
   "outputs": [
    {
     "name": "stdout",
     "output_type": "stream",
     "text": [
      "Binding to float32\n"
     ]
    }
   ],
   "source": [
    "print('Binding to float32')\n",
    "for c, dtype in zip(prop.columns, prop.dtypes):\n",
    "    if dtype == np.float64:\n",
    "        prop[c] = prop[c].astype(np.float32)"
   ]
  },
  {
   "cell_type": "markdown",
   "id": "cb9e37b6",
   "metadata": {},
   "source": [
    "### train data 처리"
   ]
  },
  {
   "cell_type": "code",
   "execution_count": 16,
   "id": "8a99bfaf",
   "metadata": {},
   "outputs": [
    {
     "name": "stdout",
     "output_type": "stream",
     "text": [
      "Creating training set...\n",
      "(90275, 55) (90275,)\n"
     ]
    }
   ],
   "source": [
    "print('Creating training set...')\n",
    "df_train = train.merge(prop, how='left', on='parcelid')\n",
    "\n",
    "x_train = df_train.drop(['parcelid', 'logerror', 'transactiondate', 'propertyzoningdesc', 'propertycountylandusecode'], axis=1)\n",
    "y_train = df_train['logerror'].values\n",
    "\n",
    "print(x_train.shape, y_train.shape)"
   ]
  },
  {
   "cell_type": "code",
   "execution_count": 17,
   "id": "50a24c13",
   "metadata": {},
   "outputs": [],
   "source": [
    "# train_columns 객체에 저장\n",
    "train_columns = x_train.columns"
   ]
  },
  {
   "cell_type": "code",
   "execution_count": 28,
   "id": "3f0f7f4b",
   "metadata": {},
   "outputs": [],
   "source": [
    "# dtype이 object인 컬럼값 처리  nan => False\n",
    "for c in x_train.dtypes[x_train.dtypes == object].index.values:\n",
    "    x_train[c] = (x_train[c] == True)"
   ]
  },
  {
   "cell_type": "code",
   "execution_count": 29,
   "id": "ec59c7ea",
   "metadata": {},
   "outputs": [
    {
     "data": {
      "text/plain": [
       "247"
      ]
     },
     "execution_count": 29,
     "metadata": {},
     "output_type": "execute_result"
    }
   ],
   "source": [
    "del df_train; gc.collect()"
   ]
  },
  {
   "cell_type": "code",
   "execution_count": 30,
   "id": "ca21d544",
   "metadata": {},
   "outputs": [],
   "source": [
    "# train, test data split\n",
    "split = 80000  # split를 80000으로 하면 약 88%로 분리됨\n",
    "x_train, y_train, x_valid, y_valid = x_train[:split], y_train[:split], x_train[split:], y_train[split:]\n"
   ]
  },
  {
   "cell_type": "code",
   "execution_count": 33,
   "id": "b066fd40",
   "metadata": {},
   "outputs": [
    {
     "name": "stdout",
     "output_type": "stream",
     "text": [
      "Building DMatrix...\n"
     ]
    }
   ],
   "source": [
    "print('Building DMatrix...')\n",
    "\n",
    "d_train = xgb.DMatrix(x_train, label = y_train)\n",
    "d_valid = xgb.DMatrix(x_valid, label = y_valid)"
   ]
  },
  {
   "cell_type": "code",
   "execution_count": 34,
   "id": "748c442d",
   "metadata": {},
   "outputs": [
    {
     "data": {
      "text/plain": [
       "99"
      ]
     },
     "execution_count": 34,
     "metadata": {},
     "output_type": "execute_result"
    }
   ],
   "source": [
    "del x_train, x_valid; gc.collect()"
   ]
  },
  {
   "cell_type": "markdown",
   "id": "d6777065",
   "metadata": {},
   "source": [
    "### 학습"
   ]
  },
  {
   "cell_type": "code",
   "execution_count": 38,
   "id": "ba8fbf8d",
   "metadata": {},
   "outputs": [
    {
     "name": "stdout",
     "output_type": "stream",
     "text": [
      "Training...\n"
     ]
    }
   ],
   "source": [
    "print('Training...')\n",
    "\n",
    "#parameter setting\n",
    "params = {}\n",
    "params['eta'] = 0.02\n",
    "params['objective'] = 'reg:squarederror'  # 버전 차이로 파라미터 변경\n",
    "params['eval_metric'] = 'mae'\n",
    "params['max_depth'] = 4\n",
    "params['verbosity'] = 1  # 버전 차이로 파라미터 변경"
   ]
  },
  {
   "cell_type": "code",
   "execution_count": 39,
   "id": "1c0e89b6",
   "metadata": {},
   "outputs": [
    {
     "name": "stdout",
     "output_type": "stream",
     "text": [
      "[19:25:59] WARNING: /Users/runner/work/xgboost/xgboost/python-package/build/temp.macosx-10.9-x86_64-cpython-38/xgboost/src/objective/regression_obj.cu:213: reg:linear is now deprecated in favor of reg:squarederror.\n",
      "[0]\ttrain-mae:0.48806\tvalid-mae:0.48112\n",
      "[10]\ttrain-mae:0.40222\tvalid-mae:0.39544\n",
      "[20]\ttrain-mae:0.33268\tvalid-mae:0.32610\n",
      "[30]\ttrain-mae:0.27652\tvalid-mae:0.27013\n",
      "[40]\ttrain-mae:0.23132\tvalid-mae:0.22521\n",
      "[50]\ttrain-mae:0.19506\tvalid-mae:0.18932\n",
      "[60]\ttrain-mae:0.16612\tvalid-mae:0.16073\n",
      "[70]\ttrain-mae:0.14312\tvalid-mae:0.13805\n",
      "[80]\ttrain-mae:0.12497\tvalid-mae:0.12022\n",
      "[90]\ttrain-mae:0.11079\tvalid-mae:0.10634\n",
      "[100]\ttrain-mae:0.09982\tvalid-mae:0.09569\n",
      "[110]\ttrain-mae:0.09145\tvalid-mae:0.08760\n",
      "[120]\ttrain-mae:0.08514\tvalid-mae:0.08159\n",
      "[130]\ttrain-mae:0.08045\tvalid-mae:0.07722\n",
      "[140]\ttrain-mae:0.07701\tvalid-mae:0.07409\n",
      "[150]\ttrain-mae:0.07450\tvalid-mae:0.07185\n",
      "[160]\ttrain-mae:0.07269\tvalid-mae:0.07027\n",
      "[170]\ttrain-mae:0.07137\tvalid-mae:0.06915\n",
      "[180]\ttrain-mae:0.07041\tvalid-mae:0.06839\n",
      "[190]\ttrain-mae:0.06971\tvalid-mae:0.06788\n",
      "[200]\ttrain-mae:0.06920\tvalid-mae:0.06754\n",
      "[210]\ttrain-mae:0.06883\tvalid-mae:0.06731\n",
      "[220]\ttrain-mae:0.06854\tvalid-mae:0.06716\n",
      "[230]\ttrain-mae:0.06833\tvalid-mae:0.06705\n",
      "[240]\ttrain-mae:0.06816\tvalid-mae:0.06698\n",
      "[250]\ttrain-mae:0.06803\tvalid-mae:0.06695\n",
      "[260]\ttrain-mae:0.06794\tvalid-mae:0.06692\n",
      "[270]\ttrain-mae:0.06786\tvalid-mae:0.06691\n",
      "[280]\ttrain-mae:0.06779\tvalid-mae:0.06690\n",
      "[290]\ttrain-mae:0.06774\tvalid-mae:0.06689\n",
      "[300]\ttrain-mae:0.06769\tvalid-mae:0.06689\n",
      "[310]\ttrain-mae:0.06765\tvalid-mae:0.06689\n",
      "[320]\ttrain-mae:0.06762\tvalid-mae:0.06689\n",
      "[330]\ttrain-mae:0.06759\tvalid-mae:0.06689\n",
      "[340]\ttrain-mae:0.06756\tvalid-mae:0.06690\n",
      "[350]\ttrain-mae:0.06754\tvalid-mae:0.06690\n",
      "[360]\ttrain-mae:0.06752\tvalid-mae:0.06692\n",
      "[370]\ttrain-mae:0.06750\tvalid-mae:0.06693\n",
      "[380]\ttrain-mae:0.06749\tvalid-mae:0.06694\n",
      "[390]\ttrain-mae:0.06747\tvalid-mae:0.06694\n",
      "[400]\ttrain-mae:0.06746\tvalid-mae:0.06695\n",
      "[403]\ttrain-mae:0.06745\tvalid-mae:0.06696\n"
     ]
    }
   ],
   "source": [
    "# xgbboost 학습\n",
    "\n",
    "watchlist = [(d_train, 'train'), (d_valid, 'valid')]\n",
    "clf = xgb.train(params, d_train, 10000, watchlist, early_stopping_rounds=100, verbose_eval=10)"
   ]
  },
  {
   "cell_type": "code",
   "execution_count": 40,
   "id": "6b4f3d84",
   "metadata": {},
   "outputs": [],
   "source": [
    "# 학습에 사용한 데이터 삭제\n",
    "del d_train, d_valid"
   ]
  },
  {
   "cell_type": "code",
   "execution_count": 41,
   "id": "7ceafbb8",
   "metadata": {},
   "outputs": [
    {
     "name": "stdout",
     "output_type": "stream",
     "text": [
      "Building test set...\n"
     ]
    },
    {
     "data": {
      "text/html": [
       "<div>\n",
       "<style scoped>\n",
       "    .dataframe tbody tr th:only-of-type {\n",
       "        vertical-align: middle;\n",
       "    }\n",
       "\n",
       "    .dataframe tbody tr th {\n",
       "        vertical-align: top;\n",
       "    }\n",
       "\n",
       "    .dataframe thead th {\n",
       "        text-align: right;\n",
       "    }\n",
       "</style>\n",
       "<table border=\"1\" class=\"dataframe\">\n",
       "  <thead>\n",
       "    <tr style=\"text-align: right;\">\n",
       "      <th></th>\n",
       "      <th>ParcelId</th>\n",
       "      <th>201610</th>\n",
       "      <th>201611</th>\n",
       "      <th>201612</th>\n",
       "      <th>201710</th>\n",
       "      <th>201711</th>\n",
       "      <th>201712</th>\n",
       "      <th>parcelid</th>\n",
       "      <th>airconditioningtypeid</th>\n",
       "      <th>architecturalstyletypeid</th>\n",
       "      <th>...</th>\n",
       "      <th>numberofstories</th>\n",
       "      <th>fireplaceflag</th>\n",
       "      <th>structuretaxvaluedollarcnt</th>\n",
       "      <th>taxvaluedollarcnt</th>\n",
       "      <th>assessmentyear</th>\n",
       "      <th>landtaxvaluedollarcnt</th>\n",
       "      <th>taxamount</th>\n",
       "      <th>taxdelinquencyflag</th>\n",
       "      <th>taxdelinquencyyear</th>\n",
       "      <th>censustractandblock</th>\n",
       "    </tr>\n",
       "  </thead>\n",
       "  <tbody>\n",
       "    <tr>\n",
       "      <th>0</th>\n",
       "      <td>10754147</td>\n",
       "      <td>0</td>\n",
       "      <td>0</td>\n",
       "      <td>0</td>\n",
       "      <td>0</td>\n",
       "      <td>0</td>\n",
       "      <td>0</td>\n",
       "      <td>10754147</td>\n",
       "      <td>NaN</td>\n",
       "      <td>NaN</td>\n",
       "      <td>...</td>\n",
       "      <td>NaN</td>\n",
       "      <td>NaN</td>\n",
       "      <td>NaN</td>\n",
       "      <td>9.0</td>\n",
       "      <td>2015.0</td>\n",
       "      <td>9.0</td>\n",
       "      <td>NaN</td>\n",
       "      <td>NaN</td>\n",
       "      <td>NaN</td>\n",
       "      <td>NaN</td>\n",
       "    </tr>\n",
       "    <tr>\n",
       "      <th>1</th>\n",
       "      <td>10759547</td>\n",
       "      <td>0</td>\n",
       "      <td>0</td>\n",
       "      <td>0</td>\n",
       "      <td>0</td>\n",
       "      <td>0</td>\n",
       "      <td>0</td>\n",
       "      <td>10759547</td>\n",
       "      <td>NaN</td>\n",
       "      <td>NaN</td>\n",
       "      <td>...</td>\n",
       "      <td>NaN</td>\n",
       "      <td>NaN</td>\n",
       "      <td>NaN</td>\n",
       "      <td>27516.0</td>\n",
       "      <td>2015.0</td>\n",
       "      <td>27516.0</td>\n",
       "      <td>NaN</td>\n",
       "      <td>NaN</td>\n",
       "      <td>NaN</td>\n",
       "      <td>NaN</td>\n",
       "    </tr>\n",
       "    <tr>\n",
       "      <th>2</th>\n",
       "      <td>10843547</td>\n",
       "      <td>0</td>\n",
       "      <td>0</td>\n",
       "      <td>0</td>\n",
       "      <td>0</td>\n",
       "      <td>0</td>\n",
       "      <td>0</td>\n",
       "      <td>10843547</td>\n",
       "      <td>NaN</td>\n",
       "      <td>NaN</td>\n",
       "      <td>...</td>\n",
       "      <td>NaN</td>\n",
       "      <td>NaN</td>\n",
       "      <td>650756.0</td>\n",
       "      <td>1413387.0</td>\n",
       "      <td>2015.0</td>\n",
       "      <td>762631.0</td>\n",
       "      <td>20800.369141</td>\n",
       "      <td>NaN</td>\n",
       "      <td>NaN</td>\n",
       "      <td>NaN</td>\n",
       "    </tr>\n",
       "    <tr>\n",
       "      <th>3</th>\n",
       "      <td>10859147</td>\n",
       "      <td>0</td>\n",
       "      <td>0</td>\n",
       "      <td>0</td>\n",
       "      <td>0</td>\n",
       "      <td>0</td>\n",
       "      <td>0</td>\n",
       "      <td>10859147</td>\n",
       "      <td>NaN</td>\n",
       "      <td>NaN</td>\n",
       "      <td>...</td>\n",
       "      <td>1.0</td>\n",
       "      <td>NaN</td>\n",
       "      <td>571346.0</td>\n",
       "      <td>1156834.0</td>\n",
       "      <td>2015.0</td>\n",
       "      <td>585488.0</td>\n",
       "      <td>14557.570312</td>\n",
       "      <td>NaN</td>\n",
       "      <td>NaN</td>\n",
       "      <td>NaN</td>\n",
       "    </tr>\n",
       "    <tr>\n",
       "      <th>4</th>\n",
       "      <td>10879947</td>\n",
       "      <td>0</td>\n",
       "      <td>0</td>\n",
       "      <td>0</td>\n",
       "      <td>0</td>\n",
       "      <td>0</td>\n",
       "      <td>0</td>\n",
       "      <td>10879947</td>\n",
       "      <td>NaN</td>\n",
       "      <td>NaN</td>\n",
       "      <td>...</td>\n",
       "      <td>NaN</td>\n",
       "      <td>NaN</td>\n",
       "      <td>193796.0</td>\n",
       "      <td>433491.0</td>\n",
       "      <td>2015.0</td>\n",
       "      <td>239695.0</td>\n",
       "      <td>5725.169922</td>\n",
       "      <td>NaN</td>\n",
       "      <td>NaN</td>\n",
       "      <td>NaN</td>\n",
       "    </tr>\n",
       "    <tr>\n",
       "      <th>5</th>\n",
       "      <td>10898347</td>\n",
       "      <td>0</td>\n",
       "      <td>0</td>\n",
       "      <td>0</td>\n",
       "      <td>0</td>\n",
       "      <td>0</td>\n",
       "      <td>0</td>\n",
       "      <td>10898347</td>\n",
       "      <td>NaN</td>\n",
       "      <td>NaN</td>\n",
       "      <td>...</td>\n",
       "      <td>1.0</td>\n",
       "      <td>NaN</td>\n",
       "      <td>176383.0</td>\n",
       "      <td>283315.0</td>\n",
       "      <td>2015.0</td>\n",
       "      <td>106932.0</td>\n",
       "      <td>3661.280029</td>\n",
       "      <td>NaN</td>\n",
       "      <td>NaN</td>\n",
       "      <td>NaN</td>\n",
       "    </tr>\n",
       "    <tr>\n",
       "      <th>6</th>\n",
       "      <td>10933547</td>\n",
       "      <td>0</td>\n",
       "      <td>0</td>\n",
       "      <td>0</td>\n",
       "      <td>0</td>\n",
       "      <td>0</td>\n",
       "      <td>0</td>\n",
       "      <td>10933547</td>\n",
       "      <td>NaN</td>\n",
       "      <td>NaN</td>\n",
       "      <td>...</td>\n",
       "      <td>NaN</td>\n",
       "      <td>NaN</td>\n",
       "      <td>397945.0</td>\n",
       "      <td>554573.0</td>\n",
       "      <td>2015.0</td>\n",
       "      <td>156628.0</td>\n",
       "      <td>6773.339844</td>\n",
       "      <td>NaN</td>\n",
       "      <td>NaN</td>\n",
       "      <td>NaN</td>\n",
       "    </tr>\n",
       "    <tr>\n",
       "      <th>7</th>\n",
       "      <td>10940747</td>\n",
       "      <td>0</td>\n",
       "      <td>0</td>\n",
       "      <td>0</td>\n",
       "      <td>0</td>\n",
       "      <td>0</td>\n",
       "      <td>0</td>\n",
       "      <td>10940747</td>\n",
       "      <td>NaN</td>\n",
       "      <td>NaN</td>\n",
       "      <td>...</td>\n",
       "      <td>1.0</td>\n",
       "      <td>NaN</td>\n",
       "      <td>101998.0</td>\n",
       "      <td>688486.0</td>\n",
       "      <td>2015.0</td>\n",
       "      <td>586488.0</td>\n",
       "      <td>7857.839844</td>\n",
       "      <td>NaN</td>\n",
       "      <td>NaN</td>\n",
       "      <td>NaN</td>\n",
       "    </tr>\n",
       "    <tr>\n",
       "      <th>8</th>\n",
       "      <td>10954547</td>\n",
       "      <td>0</td>\n",
       "      <td>0</td>\n",
       "      <td>0</td>\n",
       "      <td>0</td>\n",
       "      <td>0</td>\n",
       "      <td>0</td>\n",
       "      <td>10954547</td>\n",
       "      <td>NaN</td>\n",
       "      <td>NaN</td>\n",
       "      <td>...</td>\n",
       "      <td>NaN</td>\n",
       "      <td>NaN</td>\n",
       "      <td>NaN</td>\n",
       "      <td>9.0</td>\n",
       "      <td>2015.0</td>\n",
       "      <td>9.0</td>\n",
       "      <td>NaN</td>\n",
       "      <td>NaN</td>\n",
       "      <td>NaN</td>\n",
       "      <td>NaN</td>\n",
       "    </tr>\n",
       "    <tr>\n",
       "      <th>9</th>\n",
       "      <td>10976347</td>\n",
       "      <td>0</td>\n",
       "      <td>0</td>\n",
       "      <td>0</td>\n",
       "      <td>0</td>\n",
       "      <td>0</td>\n",
       "      <td>0</td>\n",
       "      <td>10976347</td>\n",
       "      <td>NaN</td>\n",
       "      <td>NaN</td>\n",
       "      <td>...</td>\n",
       "      <td>1.0</td>\n",
       "      <td>NaN</td>\n",
       "      <td>218440.0</td>\n",
       "      <td>261201.0</td>\n",
       "      <td>2015.0</td>\n",
       "      <td>42761.0</td>\n",
       "      <td>4054.760010</td>\n",
       "      <td>NaN</td>\n",
       "      <td>NaN</td>\n",
       "      <td>NaN</td>\n",
       "    </tr>\n",
       "  </tbody>\n",
       "</table>\n",
       "<p>10 rows × 65 columns</p>\n",
       "</div>"
      ],
      "text/plain": [
       "   ParcelId  201610  201611  201612  201710  201711  201712  parcelid  \\\n",
       "0  10754147       0       0       0       0       0       0  10754147   \n",
       "1  10759547       0       0       0       0       0       0  10759547   \n",
       "2  10843547       0       0       0       0       0       0  10843547   \n",
       "3  10859147       0       0       0       0       0       0  10859147   \n",
       "4  10879947       0       0       0       0       0       0  10879947   \n",
       "5  10898347       0       0       0       0       0       0  10898347   \n",
       "6  10933547       0       0       0       0       0       0  10933547   \n",
       "7  10940747       0       0       0       0       0       0  10940747   \n",
       "8  10954547       0       0       0       0       0       0  10954547   \n",
       "9  10976347       0       0       0       0       0       0  10976347   \n",
       "\n",
       "   airconditioningtypeid  architecturalstyletypeid  ...  numberofstories  \\\n",
       "0                    NaN                       NaN  ...              NaN   \n",
       "1                    NaN                       NaN  ...              NaN   \n",
       "2                    NaN                       NaN  ...              NaN   \n",
       "3                    NaN                       NaN  ...              1.0   \n",
       "4                    NaN                       NaN  ...              NaN   \n",
       "5                    NaN                       NaN  ...              1.0   \n",
       "6                    NaN                       NaN  ...              NaN   \n",
       "7                    NaN                       NaN  ...              1.0   \n",
       "8                    NaN                       NaN  ...              NaN   \n",
       "9                    NaN                       NaN  ...              1.0   \n",
       "\n",
       "   fireplaceflag  structuretaxvaluedollarcnt  taxvaluedollarcnt  \\\n",
       "0            NaN                         NaN                9.0   \n",
       "1            NaN                         NaN            27516.0   \n",
       "2            NaN                    650756.0          1413387.0   \n",
       "3            NaN                    571346.0          1156834.0   \n",
       "4            NaN                    193796.0           433491.0   \n",
       "5            NaN                    176383.0           283315.0   \n",
       "6            NaN                    397945.0           554573.0   \n",
       "7            NaN                    101998.0           688486.0   \n",
       "8            NaN                         NaN                9.0   \n",
       "9            NaN                    218440.0           261201.0   \n",
       "\n",
       "   assessmentyear  landtaxvaluedollarcnt     taxamount  taxdelinquencyflag  \\\n",
       "0          2015.0                    9.0           NaN                 NaN   \n",
       "1          2015.0                27516.0           NaN                 NaN   \n",
       "2          2015.0               762631.0  20800.369141                 NaN   \n",
       "3          2015.0               585488.0  14557.570312                 NaN   \n",
       "4          2015.0               239695.0   5725.169922                 NaN   \n",
       "5          2015.0               106932.0   3661.280029                 NaN   \n",
       "6          2015.0               156628.0   6773.339844                 NaN   \n",
       "7          2015.0               586488.0   7857.839844                 NaN   \n",
       "8          2015.0                    9.0           NaN                 NaN   \n",
       "9          2015.0                42761.0   4054.760010                 NaN   \n",
       "\n",
       "   taxdelinquencyyear  censustractandblock  \n",
       "0                 NaN                  NaN  \n",
       "1                 NaN                  NaN  \n",
       "2                 NaN                  NaN  \n",
       "3                 NaN                  NaN  \n",
       "4                 NaN                  NaN  \n",
       "5                 NaN                  NaN  \n",
       "6                 NaN                  NaN  \n",
       "7                 NaN                  NaN  \n",
       "8                 NaN                  NaN  \n",
       "9                 NaN                  NaN  \n",
       "\n",
       "[10 rows x 65 columns]"
      ]
     },
     "execution_count": 41,
     "metadata": {},
     "output_type": "execute_result"
    }
   ],
   "source": [
    "print('Building test set...')\n",
    "\n",
    "# merge를 위한 컬럼 생성\n",
    "sample['parcelid'] = sample['ParcelId']\n",
    "\n",
    "#sample과 prop data merge\n",
    "df_test = sample.merge(prop, on = 'parcelid', how = 'left')\n",
    "\n",
    "df_test.head(10)"
   ]
  },
  {
   "cell_type": "code",
   "execution_count": 43,
   "id": "bcb69da8",
   "metadata": {},
   "outputs": [
    {
     "data": {
      "text/plain": [
       "60"
      ]
     },
     "execution_count": 43,
     "metadata": {},
     "output_type": "execute_result"
    }
   ],
   "source": [
    "# test를 위한 data 생성 후 제거\n",
    "del prop; gc.collect()"
   ]
  },
  {
   "cell_type": "code",
   "execution_count": 45,
   "id": "20d06d9e",
   "metadata": {
    "collapsed": true
   },
   "outputs": [
    {
     "name": "stderr",
     "output_type": "stream",
     "text": [
      "/var/folders/cx/dsw_f6590_dbbf9c4vf4fyy40000gn/T/ipykernel_40789/3455887222.py:6: SettingWithCopyWarning: \n",
      "A value is trying to be set on a copy of a slice from a DataFrame.\n",
      "Try using .loc[row_indexer,col_indexer] = value instead\n",
      "\n",
      "See the caveats in the documentation: https://pandas.pydata.org/pandas-docs/stable/user_guide/indexing.html#returning-a-view-versus-a-copy\n",
      "  x_test[c] = (x_test[c] == True)\n"
     ]
    }
   ],
   "source": [
    "#df_test에서 train_columns 만 인덱싱 x_test 저장(train data와 동일하게)\n",
    "x_test = df_test[train_columns]\n",
    "\n",
    "# nan 값 처리(nan => False)\n",
    "for c in x_test.dtypes[x_test.dtypes == object].index.values:\n",
    "    x_test[c] = (x_test[c] == True)"
   ]
  },
  {
   "cell_type": "code",
   "execution_count": 46,
   "id": "e3fd770f",
   "metadata": {},
   "outputs": [
    {
     "data": {
      "text/plain": [
       "50"
      ]
     },
     "execution_count": 46,
     "metadata": {},
     "output_type": "execute_result"
    }
   ],
   "source": [
    "del df_test, sample; gc.collect()"
   ]
  },
  {
   "cell_type": "code",
   "execution_count": 47,
   "id": "c2dc11c5",
   "metadata": {},
   "outputs": [],
   "source": [
    "d_test = xgb.DMatrix(x_test)"
   ]
  },
  {
   "cell_type": "code",
   "execution_count": 48,
   "id": "04551e84",
   "metadata": {},
   "outputs": [
    {
     "data": {
      "text/plain": [
       "48"
      ]
     },
     "execution_count": 48,
     "metadata": {},
     "output_type": "execute_result"
    }
   ],
   "source": [
    "del x_test; gc.collect()"
   ]
  },
  {
   "cell_type": "code",
   "execution_count": 49,
   "id": "49b11760",
   "metadata": {},
   "outputs": [
    {
     "name": "stdout",
     "output_type": "stream",
     "text": [
      "Predicting on test...\n"
     ]
    }
   ],
   "source": [
    "print('Predicting on test...')\n",
    "\n",
    "p_test = clf.predict(d_test)"
   ]
  },
  {
   "cell_type": "code",
   "execution_count": 50,
   "id": "121a0f6b",
   "metadata": {},
   "outputs": [
    {
     "data": {
      "text/plain": [
       "41"
      ]
     },
     "execution_count": 50,
     "metadata": {},
     "output_type": "execute_result"
    }
   ],
   "source": [
    "del d_test; gc.collect()"
   ]
  },
  {
   "cell_type": "code",
   "execution_count": 53,
   "id": "c6e4b6dc",
   "metadata": {},
   "outputs": [],
   "source": [
    "sub = pd.read_csv('sample_submission.csv')\n",
    "for c in sub.columns[sub.columns != 'ParcelId']:\n",
    "    sub[c] = p_test"
   ]
  },
  {
   "cell_type": "code",
   "execution_count": 54,
   "id": "d074b419",
   "metadata": {},
   "outputs": [
    {
     "data": {
      "text/html": [
       "<div>\n",
       "<style scoped>\n",
       "    .dataframe tbody tr th:only-of-type {\n",
       "        vertical-align: middle;\n",
       "    }\n",
       "\n",
       "    .dataframe tbody tr th {\n",
       "        vertical-align: top;\n",
       "    }\n",
       "\n",
       "    .dataframe thead th {\n",
       "        text-align: right;\n",
       "    }\n",
       "</style>\n",
       "<table border=\"1\" class=\"dataframe\">\n",
       "  <thead>\n",
       "    <tr style=\"text-align: right;\">\n",
       "      <th></th>\n",
       "      <th>ParcelId</th>\n",
       "      <th>201610</th>\n",
       "      <th>201611</th>\n",
       "      <th>201612</th>\n",
       "      <th>201710</th>\n",
       "      <th>201711</th>\n",
       "      <th>201712</th>\n",
       "    </tr>\n",
       "  </thead>\n",
       "  <tbody>\n",
       "    <tr>\n",
       "      <th>0</th>\n",
       "      <td>10754147</td>\n",
       "      <td>0.183125</td>\n",
       "      <td>0.183125</td>\n",
       "      <td>0.183125</td>\n",
       "      <td>0.183125</td>\n",
       "      <td>0.183125</td>\n",
       "      <td>0.183125</td>\n",
       "    </tr>\n",
       "    <tr>\n",
       "      <th>1</th>\n",
       "      <td>10759547</td>\n",
       "      <td>-0.023807</td>\n",
       "      <td>-0.023807</td>\n",
       "      <td>-0.023807</td>\n",
       "      <td>-0.023807</td>\n",
       "      <td>-0.023807</td>\n",
       "      <td>-0.023807</td>\n",
       "    </tr>\n",
       "    <tr>\n",
       "      <th>2</th>\n",
       "      <td>10843547</td>\n",
       "      <td>0.082340</td>\n",
       "      <td>0.082340</td>\n",
       "      <td>0.082340</td>\n",
       "      <td>0.082340</td>\n",
       "      <td>0.082340</td>\n",
       "      <td>0.082340</td>\n",
       "    </tr>\n",
       "    <tr>\n",
       "      <th>3</th>\n",
       "      <td>10859147</td>\n",
       "      <td>0.296743</td>\n",
       "      <td>0.296743</td>\n",
       "      <td>0.296743</td>\n",
       "      <td>0.296743</td>\n",
       "      <td>0.296743</td>\n",
       "      <td>0.296743</td>\n",
       "    </tr>\n",
       "    <tr>\n",
       "      <th>4</th>\n",
       "      <td>10879947</td>\n",
       "      <td>0.058633</td>\n",
       "      <td>0.058633</td>\n",
       "      <td>0.058633</td>\n",
       "      <td>0.058633</td>\n",
       "      <td>0.058633</td>\n",
       "      <td>0.058633</td>\n",
       "    </tr>\n",
       "    <tr>\n",
       "      <th>5</th>\n",
       "      <td>10898347</td>\n",
       "      <td>-0.101038</td>\n",
       "      <td>-0.101038</td>\n",
       "      <td>-0.101038</td>\n",
       "      <td>-0.101038</td>\n",
       "      <td>-0.101038</td>\n",
       "      <td>-0.101038</td>\n",
       "    </tr>\n",
       "    <tr>\n",
       "      <th>6</th>\n",
       "      <td>10933547</td>\n",
       "      <td>-0.007425</td>\n",
       "      <td>-0.007425</td>\n",
       "      <td>-0.007425</td>\n",
       "      <td>-0.007425</td>\n",
       "      <td>-0.007425</td>\n",
       "      <td>-0.007425</td>\n",
       "    </tr>\n",
       "    <tr>\n",
       "      <th>7</th>\n",
       "      <td>10940747</td>\n",
       "      <td>-0.458164</td>\n",
       "      <td>-0.458164</td>\n",
       "      <td>-0.458164</td>\n",
       "      <td>-0.458164</td>\n",
       "      <td>-0.458164</td>\n",
       "      <td>-0.458164</td>\n",
       "    </tr>\n",
       "    <tr>\n",
       "      <th>8</th>\n",
       "      <td>10954547</td>\n",
       "      <td>-0.200903</td>\n",
       "      <td>-0.200903</td>\n",
       "      <td>-0.200903</td>\n",
       "      <td>-0.200903</td>\n",
       "      <td>-0.200903</td>\n",
       "      <td>-0.200903</td>\n",
       "    </tr>\n",
       "    <tr>\n",
       "      <th>9</th>\n",
       "      <td>10976347</td>\n",
       "      <td>0.083378</td>\n",
       "      <td>0.083378</td>\n",
       "      <td>0.083378</td>\n",
       "      <td>0.083378</td>\n",
       "      <td>0.083378</td>\n",
       "      <td>0.083378</td>\n",
       "    </tr>\n",
       "  </tbody>\n",
       "</table>\n",
       "</div>"
      ],
      "text/plain": [
       "   ParcelId    201610    201611    201612    201710    201711    201712\n",
       "0  10754147  0.183125  0.183125  0.183125  0.183125  0.183125  0.183125\n",
       "1  10759547 -0.023807 -0.023807 -0.023807 -0.023807 -0.023807 -0.023807\n",
       "2  10843547  0.082340  0.082340  0.082340  0.082340  0.082340  0.082340\n",
       "3  10859147  0.296743  0.296743  0.296743  0.296743  0.296743  0.296743\n",
       "4  10879947  0.058633  0.058633  0.058633  0.058633  0.058633  0.058633\n",
       "5  10898347 -0.101038 -0.101038 -0.101038 -0.101038 -0.101038 -0.101038\n",
       "6  10933547 -0.007425 -0.007425 -0.007425 -0.007425 -0.007425 -0.007425\n",
       "7  10940747 -0.458164 -0.458164 -0.458164 -0.458164 -0.458164 -0.458164\n",
       "8  10954547 -0.200903 -0.200903 -0.200903 -0.200903 -0.200903 -0.200903\n",
       "9  10976347  0.083378  0.083378  0.083378  0.083378  0.083378  0.083378"
      ]
     },
     "execution_count": 54,
     "metadata": {},
     "output_type": "execute_result"
    }
   ],
   "source": [
    "# 시기와 상관없이 동일한 예측값으로\n",
    "sub.head(10)"
   ]
  },
  {
   "cell_type": "code",
   "execution_count": 55,
   "id": "2b7bdb5c",
   "metadata": {},
   "outputs": [
    {
     "name": "stdout",
     "output_type": "stream",
     "text": [
      "Writing csv...\n"
     ]
    }
   ],
   "source": [
    "print('Writing csv...')\n",
    "sub.to_csv('xgb_starter.csv', index = False, float_format='%.4f')"
   ]
  },
  {
   "cell_type": "code",
   "execution_count": null,
   "id": "2157b27c",
   "metadata": {},
   "outputs": [],
   "source": []
  },
  {
   "cell_type": "code",
   "execution_count": null,
   "id": "2987a808",
   "metadata": {},
   "outputs": [],
   "source": []
  }
 ],
 "metadata": {
  "kernelspec": {
   "display_name": "Python 3 (ipykernel)",
   "language": "python",
   "name": "python3"
  },
  "language_info": {
   "codemirror_mode": {
    "name": "ipython",
    "version": 3
   },
   "file_extension": ".py",
   "mimetype": "text/x-python",
   "name": "python",
   "nbconvert_exporter": "python",
   "pygments_lexer": "ipython3",
   "version": "3.9.13"
  },
  "toc": {
   "base_numbering": 1,
   "nav_menu": {},
   "number_sections": true,
   "sideBar": true,
   "skip_h1_title": false,
   "title_cell": "Table of Contents",
   "title_sidebar": "Contents",
   "toc_cell": false,
   "toc_position": {},
   "toc_section_display": true,
   "toc_window_display": false
  },
  "varInspector": {
   "cols": {
    "lenName": 16,
    "lenType": 16,
    "lenVar": 40
   },
   "kernels_config": {
    "python": {
     "delete_cmd_postfix": "",
     "delete_cmd_prefix": "del ",
     "library": "var_list.py",
     "varRefreshCmd": "print(var_dic_list())"
    },
    "r": {
     "delete_cmd_postfix": ") ",
     "delete_cmd_prefix": "rm(",
     "library": "var_list.r",
     "varRefreshCmd": "cat(var_dic_list()) "
    }
   },
   "types_to_exclude": [
    "module",
    "function",
    "builtin_function_or_method",
    "instance",
    "_Feature"
   ],
   "window_display": false
  }
 },
 "nbformat": 4,
 "nbformat_minor": 5
}
